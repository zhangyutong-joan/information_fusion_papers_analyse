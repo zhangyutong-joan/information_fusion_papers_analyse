{
 "cells": [
  {
   "cell_type": "code",
   "execution_count": 10,
   "id": "1fff408f",
   "metadata": {},
   "outputs": [],
   "source": [
    "from collections import Counter\n",
    "import re\n",
    "\n",
    "\n",
    "def getText(filename):\n",
    "    txt = open(filename,\"r\").read()\n",
    "    # 变成小写\n",
    "    txt = txt.lower()\n",
    "    # 处理特殊符号\n",
    "    for ch in '''!\"$%&()*+,-./;:<=>?@[\\\\]^_{|}~''\\n\\t ''':\n",
    "          txt = txt.replace(ch,\" \")\n",
    "    return txt\n"
   ]
  },
  {
   "cell_type": "code",
   "execution_count": 15,
   "id": "136d9de6",
   "metadata": {},
   "outputs": [],
   "source": [
    "\n",
    "\n",
    "from collections import Counter\n",
    "\n",
    "def tongji(text, words_dict_file):\n",
    "    with open(text, 'r', encoding='utf-8') as file:\n",
    "        txt= file.read().lower()  # 将文本内容转换为小写以便进行匹配\n",
    "        # 处理特殊符号\n",
    "        for ch in '''!\"$%&()*+,-./;:<=>?@[\\\\]^_{|}~''\\n\\t ''':\n",
    "            content = txt.replace(ch,\" \")\n",
    "\n",
    "    with open(words_dict_file, 'r', encoding='utf-8') as dict_file:\n",
    "        words_dict = [line.strip().lower() for line in dict_file]  # 读取关键词字典并转换为小写后放入列表中\n",
    "\n",
    "    word_counts = Counter()\n",
    "    total_words = 0\n",
    "\n",
    "    for phrase in words_dict:\n",
    "        count = content.count(phrase)\n",
    "        word_counts[phrase] = count\n",
    "        total_words += count\n",
    "\n",
    "\n",
    "    # 计算每个词组的词频\n",
    "    word_frequencies = {word: count / total_words for word, count in word_counts.items()}\n",
    "\n",
    "    # 按词频排序\n",
    "    sorted_word_frequencies = dict(sorted(word_frequencies.items(), key=lambda item: item[1], reverse=True))\n",
    "\n",
    "    # 获取词频最高的前20%词组\n",
    "    num_top_words = int(0.2 * len(sorted_word_frequencies))\n",
    "    top_words_and_frequencies = {k: sorted_word_frequencies[k] for k in list(sorted_word_frequencies)[:num_top_words]}\n",
    "\n",
    "    return top_words_and_frequencies"
   ]
  },
  {
   "cell_type": "code",
   "execution_count": 16,
   "id": "2ead06d0",
   "metadata": {},
   "outputs": [
    {
     "name": "stdout",
     "output_type": "stream",
     "text": [
      "{'image fusion': 0.4090909090909091, 'data fusion': 0.22727272727272727, 'multimodal fusion': 0.13636363636363635, 'spatial fusion': 0.045454545454545456, 'target tracking': 0.0, 'sensor fusion': 0.0, 'multi-modal fusion': 0.0, 'information integration': 0.0, 'decision fusion': 0.0, 'feature fusion': 0.0, 'bayesian fusion': 0.0, 'fusion algorithms': 0.0, 'fusion architectures': 0.0, 'multi-sensor fusion': 0.0, 'video fusion': 0.0, 'audio-visual fusion': 0.0, 'environmental monitoring': 0.0, 'health monitoring': 0.0, 'surveillance systems': 0.0, 'object recognition': 0.0}\n"
     ]
    }
   ],
   "source": [
    "result = tongji('最新-正在.txt','fusion关键词库.txt')\n",
    "print(result)"
   ]
  },
  {
   "cell_type": "code",
   "execution_count": null,
   "id": "feac2191",
   "metadata": {},
   "outputs": [],
   "source": []
  }
 ],
 "metadata": {
  "kernelspec": {
   "display_name": "Python 3 (ipykernel)",
   "language": "python",
   "name": "python3"
  },
  "language_info": {
   "codemirror_mode": {
    "name": "ipython",
    "version": 3
   },
   "file_extension": ".py",
   "mimetype": "text/x-python",
   "name": "python",
   "nbconvert_exporter": "python",
   "pygments_lexer": "ipython3",
   "version": "3.7.6rc1"
  }
 },
 "nbformat": 4,
 "nbformat_minor": 5
}
